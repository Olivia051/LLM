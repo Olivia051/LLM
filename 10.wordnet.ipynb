{
  "nbformat": 4,
  "nbformat_minor": 0,
  "metadata": {
    "colab": {
      "name": "10.wordnet.ipynb",
      "provenance": []
    },
    "kernelspec": {
      "name": "python3",
      "display_name": "Python 3"
    },
    "language_info": {
      "name": "python"
    }
  },
  "cells": [
    {
      "cell_type": "markdown",
      "source": [
        "# 中文wordnet\n",
        "完整用法：https://github.com/lopentu/CwnGraph\n",
        "\n",
        "- 早期利用字詞表達文章的用法，可以透過查詢wordnet，找出查詢字跟那些字有關係。\n",
        "- wordnet是透過人工的方式，建立起字詞之間的關係\n",
        "- 本範例介紹中文的wordnet，查詢\"電\"這個字，看有多少跟\"電\"相關的字詞\n",
        "- 另外介紹英文的wordnet，查詢跟\"cat\"相似的字詞"
      ],
      "metadata": {
        "id": "NLZPCMu0_SMu"
      }
    },
    {
      "cell_type": "code",
      "source": [
        "!pip install CwnGraph"
      ],
      "metadata": {
        "id": "2E02jlhZ8rr7",
        "outputId": "fd3a27f3-2c09-4d2b-dc3f-393d5597deb7",
        "colab": {
          "base_uri": "https://localhost:8080/"
        }
      },
      "execution_count": 1,
      "outputs": [
        {
          "output_type": "stream",
          "name": "stdout",
          "text": [
            "Collecting CwnGraph\n",
            "  Downloading CwnGraph-0.4.0-py3-none-any.whl (32 kB)\n",
            "Requirement already satisfied: gdown>=4.4.0 in /usr/local/lib/python3.10/dist-packages (from CwnGraph) (4.6.6)\n",
            "Requirement already satisfied: requests in /usr/local/lib/python3.10/dist-packages (from CwnGraph) (2.31.0)\n",
            "Requirement already satisfied: nltk in /usr/local/lib/python3.10/dist-packages (from CwnGraph) (3.8.1)\n",
            "Requirement already satisfied: filelock in /usr/local/lib/python3.10/dist-packages (from gdown>=4.4.0->CwnGraph) (3.13.1)\n",
            "Requirement already satisfied: six in /usr/local/lib/python3.10/dist-packages (from gdown>=4.4.0->CwnGraph) (1.16.0)\n",
            "Requirement already satisfied: tqdm in /usr/local/lib/python3.10/dist-packages (from gdown>=4.4.0->CwnGraph) (4.66.1)\n",
            "Requirement already satisfied: beautifulsoup4 in /usr/local/lib/python3.10/dist-packages (from gdown>=4.4.0->CwnGraph) (4.11.2)\n",
            "Requirement already satisfied: click in /usr/local/lib/python3.10/dist-packages (from nltk->CwnGraph) (8.1.7)\n",
            "Requirement already satisfied: joblib in /usr/local/lib/python3.10/dist-packages (from nltk->CwnGraph) (1.3.2)\n",
            "Requirement already satisfied: regex>=2021.8.3 in /usr/local/lib/python3.10/dist-packages (from nltk->CwnGraph) (2023.6.3)\n",
            "Requirement already satisfied: charset-normalizer<4,>=2 in /usr/local/lib/python3.10/dist-packages (from requests->CwnGraph) (3.3.2)\n",
            "Requirement already satisfied: idna<4,>=2.5 in /usr/local/lib/python3.10/dist-packages (from requests->CwnGraph) (3.6)\n",
            "Requirement already satisfied: urllib3<3,>=1.21.1 in /usr/local/lib/python3.10/dist-packages (from requests->CwnGraph) (2.0.7)\n",
            "Requirement already satisfied: certifi>=2017.4.17 in /usr/local/lib/python3.10/dist-packages (from requests->CwnGraph) (2023.11.17)\n",
            "Requirement already satisfied: soupsieve>1.2 in /usr/local/lib/python3.10/dist-packages (from beautifulsoup4->gdown>=4.4.0->CwnGraph) (2.5)\n",
            "Requirement already satisfied: PySocks!=1.5.7,>=1.5.6 in /usr/local/lib/python3.10/dist-packages (from requests->CwnGraph) (1.7.1)\n",
            "Installing collected packages: CwnGraph\n",
            "Successfully installed CwnGraph-0.4.0\n"
          ]
        }
      ]
    },
    {
      "cell_type": "code",
      "execution_count": 3,
      "metadata": {
        "colab": {
          "base_uri": "https://localhost:8080/"
        },
        "id": "Kuuu-WmF8M5u",
        "outputId": "1ac70829-16cb-4aed-8d55-08939b92e5fa"
      },
      "outputs": [
        {
          "output_type": "execute_result",
          "data": {
            "text/plain": [
              "[<CwnLemma: 電_1>,\n",
              " <CwnLemma: 電影_1>,\n",
              " <CwnLemma: 光電_1>,\n",
              " <CwnLemma: 電路_1>,\n",
              " <CwnLemma: 電器_1>,\n",
              " <CwnLemma: 電通所_1>,\n",
              " <CwnLemma: 電氣_1>,\n",
              " <CwnLemma: 停電_1>,\n",
              " <CwnLemma: 電廠_1>,\n",
              " <CwnLemma: 電傳_1>,\n",
              " <CwnLemma: 電影院_1>,\n",
              " <CwnLemma: 中國電視公司_1>,\n",
              " <CwnLemma: 電動_1>,\n",
              " <CwnLemma: 電信局_1>,\n",
              " <CwnLemma: 電腦_1>,\n",
              " <CwnLemma: 發電_1>,\n",
              " <CwnLemma: 電子_1>,\n",
              " <CwnLemma: 打電話_1>,\n",
              " <CwnLemma: 電視_1>,\n",
              " <CwnLemma: 電話_1>,\n",
              " <CwnLemma: 電信_1>,\n",
              " <CwnLemma: 電動玩具_1>,\n",
              " <CwnLemma: 交流電_1>,\n",
              " <CwnLemma: 電場_1>,\n",
              " <CwnLemma: 電磁波_1>,\n",
              " <CwnLemma: 電力_1>,\n",
              " <CwnLemma: 電離_1>,\n",
              " <CwnLemma: 電解質_1>,\n",
              " <CwnLemma: 電漿_1>,\n",
              " <CwnLemma: 電鰻_1>,\n",
              " <CwnLemma: 電燙_1>,\n",
              " <CwnLemma: 電腦化_1>,\n",
              " <CwnLemma: 正電_1>,\n",
              " <CwnLemma: 斷電_1>,\n",
              " <CwnLemma: 電磁學_1>,\n",
              " <CwnLemma: 電子學_1>,\n",
              " <CwnLemma: 微電子學_1>,\n",
              " <CwnLemma: 電話簿_1>,\n",
              " <CwnLemma: 電子檔_1>,\n",
              " <CwnLemma: 電費_1>,\n",
              " <CwnLemma: 電碼_1>,\n",
              " <CwnLemma: 心電圖_1>,\n",
              " <CwnLemma: 電流_1>,\n",
              " <CwnLemma: 電離層_1>,\n",
              " <CwnLemma: 光電子_1>,\n",
              " <CwnLemma: 電流計_1>,\n",
              " <CwnLemma: 電極_1>,\n",
              " <CwnLemma: 電池_1>,\n",
              " <CwnLemma: 電纜_1>,\n",
              " <CwnLemma: 電纜車_1>,\n",
              " <CwnLemma: 電石_1>,\n",
              " <CwnLemma: 電容器_1>,\n",
              " <CwnLemma: 行動電話_1>,\n",
              " <CwnLemma: 電路板_1>,\n",
              " <CwnLemma: 閉路電視_1>,\n",
              " <CwnLemma: 電線_1>,\n",
              " <CwnLemma: 電磁_1>,\n",
              " <CwnLemma: 電子錶_1>,\n",
              " <CwnLemma: 乾電池_1>,\n",
              " <CwnLemma: 熱電_1>,\n",
              " <CwnLemma: 發電機_1>,\n",
              " <CwnLemma: 流電_1>,\n",
              " <CwnLemma: 電動車_1>,\n",
              " <CwnLemma: 電鈴_1>,\n",
              " <CwnLemma: 電毯_1>,\n",
              " <CwnLemma: 電椅_1>,\n",
              " <CwnLemma: 電熱器_1>,\n",
              " <CwnLemma: 電燈_1>,\n",
              " <CwnLemma: 電動機_1>,\n",
              " <CwnLemma: 電冰箱_1>,\n",
              " <CwnLemma: 電解_1>,\n",
              " <CwnLemma: 電磁鐵_1>,\n",
              " <CwnLemma: 電子槍_1>,\n",
              " <CwnLemma: 驗電器_1>,\n",
              " <CwnLemma: 電梯_1>,\n",
              " <CwnLemma: 微電子_1>,\n",
              " <CwnLemma: 電報_1>,\n",
              " <CwnLemma: 手電筒_1>,\n",
              " <CwnLemma: 電燈泡_1>,\n",
              " <CwnLemma: 微電腦_1>,\n",
              " <CwnLemma: 電解槽_1>,\n",
              " <CwnLemma: 電插座_1>,\n",
              " <CwnLemma: 發電所_1>,\n",
              " <CwnLemma: 無線電_1>,\n",
              " <CwnLemma: 電阻_1>,\n",
              " <CwnLemma: 蓄電池_1>,\n",
              " <CwnLemma: 電車_1>,\n",
              " <CwnLemma: 變電所_1>,\n",
              " <CwnLemma: 配電盤_1>,\n",
              " <CwnLemma: 電報機_1>,\n",
              " <CwnLemma: 電話亭_1>,\n",
              " <CwnLemma: 電話線_1>,\n",
              " <CwnLemma: 電視機_1>,\n",
              " <CwnLemma: 電晶體_1>,\n",
              " <CwnLemma: 電壓表_1>,\n",
              " <CwnLemma: 通電_1>,\n",
              " <CwnLemma: 電鍍_1>,\n",
              " <CwnLemma: 靜電_1>,\n",
              " <CwnLemma: 電刑_1>,\n",
              " <CwnLemma: 閃電_1>,\n",
              " <CwnLemma: 充電_1>,\n",
              " <CwnLemma: 電工_1>,\n",
              " <CwnLemma: 電療_1>,\n",
              " <CwnLemma: 電擊_1>,\n",
              " <CwnLemma: 電扇_1>,\n",
              " <CwnLemma: 電視台_1>,\n",
              " <CwnLemma: 電台_1>,\n",
              " <CwnLemma: 回電_1>,\n",
              " <CwnLemma: 電視劇_1>,\n",
              " <CwnLemma: 電壓_1>,\n",
              " <CwnLemma: 家電_1>,\n",
              " <CwnLemma: 打電動_1>,\n",
              " <CwnLemma: 公用電話_1>,\n",
              " <CwnLemma: 看電視_1>,\n",
              " <CwnLemma: 有線電視_1>,\n",
              " <CwnLemma: 個人電腦_1>,\n",
              " <CwnLemma: 電玩_1>,\n",
              " <CwnLemma: 電子郵件_1>,\n",
              " <CwnLemma: 電機_1>,\n",
              " <CwnLemma: 自由亞洲電台_1>,\n",
              " <CwnLemma: 台積電_1>,\n",
              " <CwnLemma: 台電_1>,\n",
              " <CwnLemma: 中華電信_1>]"
            ]
          },
          "metadata": {},
          "execution_count": 3
        }
      ],
      "source": [
        "from CwnGraph import CwnImage\n",
        "cwn = CwnImage.latest()\n",
        "lemmas = cwn.find_lemma(\"電\")\n",
        "lemmas"
      ]
    },
    {
      "cell_type": "markdown",
      "source": [
        "#英文wordnet\n",
        "完整用法：https://www.nltk.org/howto/wordnet.html"
      ],
      "metadata": {
        "id": "13NyCY9p_Hpi"
      }
    },
    {
      "cell_type": "code",
      "source": [
        "import nltk\n",
        "nltk.download('wordnet')\n",
        "from nltk.corpus import wordnet as wn\n",
        "wn.synsets('cat')"
      ],
      "metadata": {
        "colab": {
          "base_uri": "https://localhost:8080/"
        },
        "id": "aDX0UHsY-dR5",
        "outputId": "70726475-80f9-45df-b18e-a0087ad9bb7c"
      },
      "execution_count": 4,
      "outputs": [
        {
          "output_type": "stream",
          "name": "stderr",
          "text": [
            "[nltk_data] Downloading package wordnet to /root/nltk_data...\n"
          ]
        },
        {
          "output_type": "execute_result",
          "data": {
            "text/plain": [
              "[Synset('cat.n.01'),\n",
              " Synset('guy.n.01'),\n",
              " Synset('cat.n.03'),\n",
              " Synset('kat.n.01'),\n",
              " Synset('cat-o'-nine-tails.n.01'),\n",
              " Synset('caterpillar.n.02'),\n",
              " Synset('big_cat.n.01'),\n",
              " Synset('computerized_tomography.n.01'),\n",
              " Synset('cat.v.01'),\n",
              " Synset('vomit.v.01')]"
            ]
          },
          "metadata": {},
          "execution_count": 4
        }
      ]
    }
  ]
}